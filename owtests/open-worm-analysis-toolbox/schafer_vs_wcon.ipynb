{
 "cells": [
  {
   "cell_type": "code",
   "execution_count": 1,
   "metadata": {},
   "outputs": [],
   "source": [
    "%matplotlib inline\n",
    "\n",
    "import os\n",
    "\n",
    "import numpy as np\n",
    "import matplotlib.pyplot as plt\n",
    "import matplotlib as mpl\n",
    "import pandas as pd\n",
    "import warnings\n",
    "warnings.filterwarnings('ignore')\n",
    "plt.rcParams.update({'font.size':16})\n",
    "\n",
    "import sciunit\n",
    "from owtests import OW_HOME\n",
    "import wcon\n",
    "import open_worm_analysis_toolbox as owat"
   ]
  },
  {
   "cell_type": "code",
   "execution_count": 2,
   "metadata": {},
   "outputs": [],
   "source": [
    "# The location of OWAT validation tests, not of the OWAT package itself\n",
    "OWAT_TESTS = os.path.join(OW_HOME,'tests','owtests','open-worm-analysis-toolbox')"
   ]
  },
  {
   "cell_type": "markdown",
   "metadata": {},
   "source": [
    "### Compute features from a Schafer-style experiment data file"
   ]
  },
  {
   "cell_type": "code",
   "execution_count": 3,
   "metadata": {},
   "outputs": [],
   "source": [
    "def get_schafer_features(file):\n",
    "    # Load a \"basic\" worm from a file\n",
    "    path = os.path.join(OW_HOME,'open-worm-analysis-toolbox','example_data',file)\n",
    "    bw = owat.BasicWorm.from_schafer_file_factory(path)\n",
    "    # Normalize the basic worm\n",
    "    nw = owat.NormalizedWorm.from_BasicWorm_factory(bw)\n",
    "    # Compute the features\n",
    "    wf_experiment_schafer = owat.WormFeatures(nw)\n",
    "    return wf_experiment_schafer"
   ]
  },
  {
   "cell_type": "code",
   "execution_count": 4,
   "metadata": {},
   "outputs": [
    {
     "name": "stdout",
     "output_type": "stream",
     "text": [
      "CPU times: user 35.7 s, sys: 475 ms, total: 36.2 s\n",
      "Wall time: 36.2 s\n"
     ]
    }
   ],
   "source": [
    "%time wf_experiment_schafer_1 = get_schafer_features('example_contour_and_skeleton_info.mat')"
   ]
  },
  {
   "cell_type": "markdown",
   "metadata": {},
   "source": [
    "### Compute features from a WCON-style experiment data file"
   ]
  },
  {
   "cell_type": "code",
   "execution_count": 5,
   "metadata": {},
   "outputs": [],
   "source": [
    "# A function to convert the WCON skeleton data into the format required for owat.BasicWorm \n",
    "def basic_worm_from_wcon(wcon_data):\n",
    "    bw = owat.BasicWorm()\n",
    "    data = wcon_data.data\n",
    "    worm_name = data.columns.levels[0][0]\n",
    "    skeleton_data = [data[worm_name].iloc[frame].unstack().iloc[1:].values for frame in range(data.shape[0])]\n",
    "    if skeleton_data[0].shape[0]==4:\n",
    "        skeleton_data = [x[2:,:] for x in skeleton_data]\n",
    "    skeleton_data = [x.astype('float') for x in skeleton_data]\n",
    "    bw._h_skeleton = skeleton_data\n",
    "    return bw"
   ]
  },
  {
   "cell_type": "code",
   "execution_count": 6,
   "metadata": {},
   "outputs": [],
   "source": [
    "# A function to get an OWAT features object from a WCON\n",
    "def get_wcon_features(file):\n",
    "    path = os.path.join(OWAT_TESTS,file)\n",
    "    data = wcon.WCONWorms.load_from_file(path)\n",
    "    bw = basic_worm_from_wcon(data)\n",
    "    nw = owat.NormalizedWorm.from_BasicWorm_factory(bw)\n",
    "    wf = owat.WormFeatures(nw)\n",
    "    return wf"
   ]
  },
  {
   "cell_type": "code",
   "execution_count": 7,
   "metadata": {},
   "outputs": [
    {
     "name": "stdout",
     "output_type": "stream",
     "text": [
      "Loading file: /Users/rgerkin/dev/openworm/tests/owtests/open-worm-analysis-toolbox/experiment/nca-1 (gk9) nca-2 (gk5) nRHO-1 QT309 on food L_2011_11_09__12_02___3___6.wcon\n",
      "CPU times: user 3min 35s, sys: 56.2 s, total: 4min 31s\n",
      "Wall time: 4min 32s\n"
     ]
    }
   ],
   "source": [
    "file = 'experiment/nca-1 (gk9) nca-2 (gk5) nRHO-1 QT309 on food L_2011_11_09__12_02___3___6.wcon'\n",
    "%time wf_experiment_wcon = get_wcon_features(file)"
   ]
  },
  {
   "cell_type": "markdown",
   "metadata": {},
   "source": [
    "### Compute features from a WCON-style model data file"
   ]
  },
  {
   "cell_type": "code",
   "execution_count": 8,
   "metadata": {},
   "outputs": [
    {
     "name": "stdout",
     "output_type": "stream",
     "text": [
      "Loading file: /Users/rgerkin/dev/openworm/tests/owtests/open-worm-analysis-toolbox/model/worm_motion_log.wcon\n",
      "CPU times: user 2min 58s, sys: 1.67 s, total: 3min\n",
      "Wall time: 3min\n"
     ]
    }
   ],
   "source": [
    "file = 'model/worm_motion_log.wcon'\n",
    "%time wf_model_wcon = get_wcon_features(file)"
   ]
  },
  {
   "cell_type": "markdown",
   "metadata": {},
   "source": [
    "### Fill a data frame with feature means for these three kinds of files"
   ]
  },
  {
   "cell_type": "code",
   "execution_count": 9,
   "metadata": {},
   "outputs": [
    {
     "name": "stdout",
     "output_type": "stream",
     "text": [
      "48 valid features found for wcon_model\n",
      "83 valid features found for wcon_experiment\n",
      "81 valid features found for schafer_experiment\n"
     ]
    },
    {
     "data": {
      "text/html": [
       "<div>\n",
       "<style scoped>\n",
       "    .dataframe tbody tr th:only-of-type {\n",
       "        vertical-align: middle;\n",
       "    }\n",
       "\n",
       "    .dataframe tbody tr th {\n",
       "        vertical-align: top;\n",
       "    }\n",
       "\n",
       "    .dataframe thead th {\n",
       "        text-align: right;\n",
       "    }\n",
       "</style>\n",
       "<table border=\"1\" class=\"dataframe\">\n",
       "  <thead>\n",
       "    <tr style=\"text-align: right;\">\n",
       "      <th></th>\n",
       "      <th>wcon_model</th>\n",
       "      <th>wcon_experiment</th>\n",
       "      <th>schafer_experiment</th>\n",
       "    </tr>\n",
       "  </thead>\n",
       "  <tbody>\n",
       "    <tr>\n",
       "      <th>morphology.length</th>\n",
       "      <td>1.163448</td>\n",
       "      <td>1021.864316</td>\n",
       "      <td>966.907818</td>\n",
       "    </tr>\n",
       "    <tr>\n",
       "      <th>morphology.width.head</th>\n",
       "      <td>NaN</td>\n",
       "      <td>NaN</td>\n",
       "      <td>47.097449</td>\n",
       "    </tr>\n",
       "    <tr>\n",
       "      <th>morphology.width.midbody</th>\n",
       "      <td>NaN</td>\n",
       "      <td>NaN</td>\n",
       "      <td>85.879552</td>\n",
       "    </tr>\n",
       "    <tr>\n",
       "      <th>morphology.width.tail</th>\n",
       "      <td>NaN</td>\n",
       "      <td>NaN</td>\n",
       "      <td>47.009043</td>\n",
       "    </tr>\n",
       "    <tr>\n",
       "      <th>morphology.area</th>\n",
       "      <td>NaN</td>\n",
       "      <td>NaN</td>\n",
       "      <td>70229.892541</td>\n",
       "    </tr>\n",
       "  </tbody>\n",
       "</table>\n",
       "</div>"
      ],
      "text/plain": [
       "                          wcon_model  wcon_experiment  schafer_experiment\n",
       "morphology.length           1.163448      1021.864316          966.907818\n",
       "morphology.width.head            NaN              NaN           47.097449\n",
       "morphology.width.midbody         NaN              NaN           85.879552\n",
       "morphology.width.tail            NaN              NaN           47.009043\n",
       "morphology.area                  NaN              NaN        70229.892541"
      ]
     },
     "execution_count": 9,
     "metadata": {},
     "output_type": "execute_result"
    }
   ],
   "source": [
    "# Get a list of all the possible features\n",
    "features = list(wf_experiment_schafer_1._features.keys())\n",
    "# Make a data frame to store feature means\n",
    "df = pd.DataFrame(index=features,columns=['wcon_model','wcon_experiment','schafer_experiment'])\n",
    "\n",
    "# A function to fill the data frame with the feature means\n",
    "def fill_df(wf,df,column):\n",
    "    n_valid = 0\n",
    "    for feature,value in wf._features.items():\n",
    "        try: # Fill with feature means only if the feature is found and has some numeric data\n",
    "            result = pd.Series(value.value).mean()\n",
    "            if not np.isnan(result):\n",
    "                df.loc[feature,column] = result\n",
    "                n_valid += 1\n",
    "        except:\n",
    "            pass\n",
    "    # Valid features are the ones that were computed and have some numeric data\n",
    "    print(\"%d valid features found for %s\" % (n_valid,column))\n",
    "    return df.astype('float')\n",
    "    \n",
    "# Populate the data frame with mean features from:\n",
    "# the model (from WCON)\n",
    "df = fill_df(wf_model_wcon,df,'wcon_model')\n",
    "# an experiment (from WCON)\n",
    "df = fill_df(wf_experiment_wcon,df,'wcon_experiment')\n",
    "# and another experiment (from Schafer)\n",
    "df = fill_df(wf_experiment_schafer_1,df,'schafer_experiment')\n",
    "df.head()"
   ]
  },
  {
   "cell_type": "markdown",
   "metadata": {},
   "source": [
    "### Plot mean features derived from a WCON experiment file and a Schafer experiment file (these are two different experiments) against each other"
   ]
  },
  {
   "cell_type": "code",
   "execution_count": 10,
   "metadata": {},
   "outputs": [
    {
     "data": {
      "text/plain": [
       "[<matplotlib.lines.Line2D at 0x11e9c0eb8>]"
      ]
     },
     "execution_count": 10,
     "metadata": {},
     "output_type": "execute_result"
    },
    {
     "data": {
      "image/png": "[encoded data removed]",
      "text/plain": [
       "<matplotlib.figure.Figure at 0x11e9c0b00>"
      ]
     },
     "metadata": {},
     "output_type": "display_data"
    }
   ],
   "source": [
    "# Note that there is some correlation (some points near the unity line)\n",
    "df.plot.scatter(x='wcon_experiment',y='schafer_experiment')\n",
    "plt.plot([0,5000],[0,5000],'--')"
   ]
  },
  {
   "cell_type": "markdown",
   "metadata": {},
   "source": [
    "### Plot mean features derived from a WCON experiment file and a WCON model file against each other"
   ]
  },
  {
   "cell_type": "code",
   "execution_count": 11,
   "metadata": {},
   "outputs": [
    {
     "data": {
      "text/plain": [
       "<matplotlib.axes._subplots.AxesSubplot at 0x14b0d8a90>"
      ]
     },
     "execution_count": 11,
     "metadata": {},
     "output_type": "execute_result"
    },
    {
     "data": {
      "image/png": "[encoded data removed]",
      "text/plain": [
       "<matplotlib.figure.Figure at 0x124ce57b8>"
      ]
     },
     "metadata": {},
     "output_type": "display_data"
    }
   ],
   "source": [
    "# These don't seem to have any correlation with one another\n",
    "df.plot.scatter(x='wcon_experiment',y='wcon_model')"
   ]
  },
  {
   "cell_type": "code",
   "execution_count": 12,
   "metadata": {},
   "outputs": [
    {
     "name": "stdout",
     "output_type": "stream",
     "text": [
      "0.5047637256663084 0.7644687430799605\n"
     ]
    }
   ],
   "source": [
    "# Some features (at least this one, which is easy to get from the skeleton)\n",
    "# appear to at least be on the same scale\n",
    "feature_name = 'posture.amplitude_ratio'\n",
    "model_mean = pd.Series(wf_model_wcon.get_features(feature_name).value).mean()\n",
    "experiment_mean = pd.Series(wf_experiment_schafer_1.get_features(feature_name).value).mean()\n",
    "print(model_mean,experiment_mean)"
   ]
  },
  {
   "cell_type": "markdown",
   "metadata": {},
   "source": [
    "### Compute the Spearman correlation to at least see if features with large means in the model are the ones with large means in the experiment (and similarly for small means)"
   ]
  },
  {
   "cell_type": "code",
   "execution_count": 13,
   "metadata": {},
   "outputs": [
    {
     "data": {
      "text/html": [
       "<div>\n",
       "<style scoped>\n",
       "    .dataframe tbody tr th:only-of-type {\n",
       "        vertical-align: middle;\n",
       "    }\n",
       "\n",
       "    .dataframe tbody tr th {\n",
       "        vertical-align: top;\n",
       "    }\n",
       "\n",
       "    .dataframe thead th {\n",
       "        text-align: right;\n",
       "    }\n",
       "</style>\n",
       "<table border=\"1\" class=\"dataframe\">\n",
       "  <thead>\n",
       "    <tr style=\"text-align: right;\">\n",
       "      <th></th>\n",
       "      <th>wcon_model</th>\n",
       "      <th>wcon_experiment</th>\n",
       "      <th>schafer_experiment</th>\n",
       "    </tr>\n",
       "  </thead>\n",
       "  <tbody>\n",
       "    <tr>\n",
       "      <th>wcon_model</th>\n",
       "      <td>1.000000</td>\n",
       "      <td>0.532515</td>\n",
       "      <td>0.490939</td>\n",
       "    </tr>\n",
       "    <tr>\n",
       "      <th>wcon_experiment</th>\n",
       "      <td>0.532515</td>\n",
       "      <td>1.000000</td>\n",
       "      <td>0.646610</td>\n",
       "    </tr>\n",
       "    <tr>\n",
       "      <th>schafer_experiment</th>\n",
       "      <td>0.490939</td>\n",
       "      <td>0.646610</td>\n",
       "      <td>1.000000</td>\n",
       "    </tr>\n",
       "  </tbody>\n",
       "</table>\n",
       "</div>"
      ],
      "text/plain": [
       "                    wcon_model  wcon_experiment  schafer_experiment\n",
       "wcon_model            1.000000         0.532515            0.490939\n",
       "wcon_experiment       0.532515         1.000000            0.646610\n",
       "schafer_experiment    0.490939         0.646610            1.000000"
      ]
     },
     "execution_count": 13,
     "metadata": {},
     "output_type": "execute_result"
    }
   ],
   "source": [
    "df.corr(method='spearman')"
   ]
  },
  {
   "cell_type": "markdown",
   "metadata": {},
   "source": [
    "### Overall, the correlations are modest.  Importantly, the correlation between model and experiment isn't really that much worse than the correlation between two experiments (using two different input file formats)"
   ]
  }
 ],
 "metadata": {
  "kernelspec": {
   "display_name": "Python 3",
   "language": "python",
   "name": "python3"
  },
  "language_info": {
   "codemirror_mode": {
    "name": "ipython",
    "version": 3
   },
   "file_extension": ".py",
   "mimetype": "text/x-python",
   "name": "python",
   "nbconvert_exporter": "python",
   "pygments_lexer": "ipython3",
   "version": "3.5.2"
  }
 },
 "nbformat": 4,
 "nbformat_minor": 2
}
