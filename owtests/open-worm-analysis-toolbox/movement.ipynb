{
 "cells": [
  {
   "cell_type": "code",
   "execution_count": 1,
   "metadata": {},
   "outputs": [],
   "source": [
    "%matplotlib inline\n",
    "\n",
    "import os\n",
    "\n",
    "import numpy as np\n",
    "import matplotlib.pyplot as plt\n",
    "import pandas as pd\n",
    "plt.rcParams.update({'font.size':16})\n",
    "\n",
    "import sciunit\n",
    "from owtests import OW_HOME\n",
    "import wcon\n",
    "import open_worm_analysis_toolbox as owat"
   ]
  },
  {
   "cell_type": "code",
   "execution_count": 2,
   "metadata": {},
   "outputs": [],
   "source": [
    "OWAT_TESTS = os.path.join(OW_HOME,'tests','owtests','open-worm-analysis-toolbox')"
   ]
  },
  {
   "cell_type": "code",
   "execution_count": 3,
   "metadata": {
    "scrolled": true
   },
   "outputs": [
    {
     "name": "stderr",
     "output_type": "stream",
     "text": [
      "/Users/rgerkin/Dropbox/miniconda3/lib/python3.5/site-packages/pandas/core/ops.py:816: FutureWarning: elementwise comparison failed; returning scalar instead, but in the future will perform elementwise comparison\n",
      "  result = getattr(x, name)(y)\n"
     ]
    },
    {
     "data": {
      "text/html": [
       "<div>\n",
       "<style scoped>\n",
       "    .dataframe tbody tr th:only-of-type {\n",
       "        vertical-align: middle;\n",
       "    }\n",
       "\n",
       "    .dataframe tbody tr th {\n",
       "        vertical-align: top;\n",
       "    }\n",
       "\n",
       "    .dataframe thead th {\n",
       "        text-align: right;\n",
       "    }\n",
       "</style>\n",
       "<table border=\"1\" class=\"dataframe\">\n",
       "  <thead>\n",
       "    <tr style=\"text-align: right;\">\n",
       "      <th></th>\n",
       "      <th>strain</th>\n",
       "      <th>gene</th>\n",
       "      <th>allele</th>\n",
       "      <th>zenodo_id</th>\n",
       "      <th>timestamp</th>\n",
       "      <th>amplitude_ratio</th>\n",
       "      <th>amplitude_ratio_forward</th>\n",
       "      <th>amplitude_ratio_backward</th>\n",
       "    </tr>\n",
       "    <tr>\n",
       "      <th>base_name</th>\n",
       "      <th></th>\n",
       "      <th></th>\n",
       "      <th></th>\n",
       "      <th></th>\n",
       "      <th></th>\n",
       "      <th></th>\n",
       "      <th></th>\n",
       "      <th></th>\n",
       "    </tr>\n",
       "  </thead>\n",
       "  <tbody>\n",
       "    <tr>\n",
       "      <th>mec-12 (e1605) on food L_2010_10_01__12_27_42__3</th>\n",
       "      <td>AQ1031</td>\n",
       "      <td>mec-12</td>\n",
       "      <td>e1605</td>\n",
       "      <td>1016623</td>\n",
       "      <td>2010-10-01 12:27</td>\n",
       "      <td>0.695751</td>\n",
       "      <td>0.712495</td>\n",
       "      <td>0.696811</td>\n",
       "    </tr>\n",
       "    <tr>\n",
       "      <th>mec-12 (e1605) on food L_2010_10_28__12_59_53__7</th>\n",
       "      <td>AQ1031</td>\n",
       "      <td>mec-12</td>\n",
       "      <td>e1605</td>\n",
       "      <td>1016892</td>\n",
       "      <td>2010-10-28 12:59</td>\n",
       "      <td>0.708843</td>\n",
       "      <td>0.718315</td>\n",
       "      <td>0.733603</td>\n",
       "    </tr>\n",
       "    <tr>\n",
       "      <th>mec-12 (e1605) on food R_2010_09_30__12_28_20__7</th>\n",
       "      <td>AQ1031</td>\n",
       "      <td>mec-12</td>\n",
       "      <td>e1605</td>\n",
       "      <td>1023874</td>\n",
       "      <td>2010-09-30 12:28</td>\n",
       "      <td>0.693943</td>\n",
       "      <td>0.703139</td>\n",
       "      <td>0.700306</td>\n",
       "    </tr>\n",
       "    <tr>\n",
       "      <th>mec-12 (e1605) on food R_2010_09_30__12_28_20__7</th>\n",
       "      <td>AQ1031</td>\n",
       "      <td>mec-12</td>\n",
       "      <td>e1605</td>\n",
       "      <td>129923</td>\n",
       "      <td>2010-09-30 12:28</td>\n",
       "      <td>0.693943</td>\n",
       "      <td>0.703139</td>\n",
       "      <td>0.700306</td>\n",
       "    </tr>\n",
       "    <tr>\n",
       "      <th>mec-12 (e1605) on food R_2010_11_04__11_18_55__3</th>\n",
       "      <td>AQ1031</td>\n",
       "      <td>mec-12</td>\n",
       "      <td>e1605</td>\n",
       "      <td>1018597</td>\n",
       "      <td>2010-11-04 11:18</td>\n",
       "      <td>0.725783</td>\n",
       "      <td>0.718733</td>\n",
       "      <td>0.740198</td>\n",
       "    </tr>\n",
       "  </tbody>\n",
       "</table>\n",
       "</div>"
      ],
      "text/plain": [
       "                                                  strain    gene allele  \\\n",
       "base_name                                                                 \n",
       "mec-12 (e1605) on food L_2010_10_01__12_27_42__3  AQ1031  mec-12  e1605   \n",
       "mec-12 (e1605) on food L_2010_10_28__12_59_53__7  AQ1031  mec-12  e1605   \n",
       "mec-12 (e1605) on food R_2010_09_30__12_28_20__7  AQ1031  mec-12  e1605   \n",
       "mec-12 (e1605) on food R_2010_09_30__12_28_20__7  AQ1031  mec-12  e1605   \n",
       "mec-12 (e1605) on food R_2010_11_04__11_18_55__3  AQ1031  mec-12  e1605   \n",
       "\n",
       "                                                  zenodo_id         timestamp  \\\n",
       "base_name                                                                       \n",
       "mec-12 (e1605) on food L_2010_10_01__12_27_42__3    1016623  2010-10-01 12:27   \n",
       "mec-12 (e1605) on food L_2010_10_28__12_59_53__7    1016892  2010-10-28 12:59   \n",
       "mec-12 (e1605) on food R_2010_09_30__12_28_20__7    1023874  2010-09-30 12:28   \n",
       "mec-12 (e1605) on food R_2010_09_30__12_28_20__7     129923  2010-09-30 12:28   \n",
       "mec-12 (e1605) on food R_2010_11_04__11_18_55__3    1018597  2010-11-04 11:18   \n",
       "\n",
       "                                                  amplitude_ratio  \\\n",
       "base_name                                                           \n",
       "mec-12 (e1605) on food L_2010_10_01__12_27_42__3         0.695751   \n",
       "mec-12 (e1605) on food L_2010_10_28__12_59_53__7         0.708843   \n",
       "mec-12 (e1605) on food R_2010_09_30__12_28_20__7         0.693943   \n",
       "mec-12 (e1605) on food R_2010_09_30__12_28_20__7         0.693943   \n",
       "mec-12 (e1605) on food R_2010_11_04__11_18_55__3         0.725783   \n",
       "\n",
       "                                                  amplitude_ratio_forward  \\\n",
       "base_name                                                                   \n",
       "mec-12 (e1605) on food L_2010_10_01__12_27_42__3                 0.712495   \n",
       "mec-12 (e1605) on food L_2010_10_28__12_59_53__7                 0.718315   \n",
       "mec-12 (e1605) on food R_2010_09_30__12_28_20__7                 0.703139   \n",
       "mec-12 (e1605) on food R_2010_09_30__12_28_20__7                 0.703139   \n",
       "mec-12 (e1605) on food R_2010_11_04__11_18_55__3                 0.718733   \n",
       "\n",
       "                                                  amplitude_ratio_backward  \n",
       "base_name                                                                   \n",
       "mec-12 (e1605) on food L_2010_10_01__12_27_42__3                  0.696811  \n",
       "mec-12 (e1605) on food L_2010_10_28__12_59_53__7                  0.733603  \n",
       "mec-12 (e1605) on food R_2010_09_30__12_28_20__7                  0.700306  \n",
       "mec-12 (e1605) on food R_2010_09_30__12_28_20__7                  0.700306  \n",
       "mec-12 (e1605) on food R_2010_11_04__11_18_55__3                  0.740198  "
      ]
     },
     "execution_count": 3,
     "metadata": {},
     "output_type": "execute_result"
    }
   ],
   "source": [
    "import pandas as pd\n",
    "path = os.path.join(OWAT_TESTS,'experiment','results.csv')\n",
    "df = pd.read_csv(path,index_col=0)\n",
    "for col in ['amplitude_ratio','amplitude_ratio_forward','amplitude_ratio_backward']:\n",
    "    try:\n",
    "        df = df[df[col] != 'None']\n",
    "        df[col] = df[col].astype('float')\n",
    "    except:\n",
    "        pass\n",
    "df.head()"
   ]
  },
  {
   "cell_type": "markdown",
   "metadata": {},
   "source": [
    "## Amplitude Ratio (Forwards and Backwards):\n",
    "\n",
    "The CElegans worm achieves locomotion by aligning it's body in a sinusoidal wave pattern with a wavelength small enough to repeat several times in the worms body. \n",
    "\n",
    "Worm experiment and model movement data employs a segmented representation of the worm. If one drew a line between the head and the tail of a worm, segments along the wave would differ in their distance from the closest point on the line.  As the segments are finite in number, generally one segment will have a greater displacement from that line than the rest, and the remaining points can be sorted hierarchily by their displacement from the line. A ratio is derived by dividing the greatest displacement distance from the second greatest displacement distance. "
   ]
  },
  {
   "cell_type": "code",
   "execution_count": 4,
   "metadata": {},
   "outputs": [
    {
     "data": {
      "image/png": "[encoded data removed]",
      "text/plain": [
       "<matplotlib.figure.Figure at 0x116bcd6a0>"
      ]
     },
     "metadata": {},
     "output_type": "display_data"
    }
   ],
   "source": [
    "df.hist(['amplitude_ratio_forward','amplitude_ratio_backward']);"
   ]
  },
  {
   "cell_type": "code",
   "execution_count": 5,
   "metadata": {},
   "outputs": [],
   "source": [
    "class MovementModel(sciunit.Model):\n",
    "    def get_amplitude_ratio_forward(self):\n",
    "        return 0.7\n",
    "    def get_amplitude_ratio_backward(self):\n",
    "        return 0.7\n",
    "    \n",
    "class AmplitudeRatioTest(sciunit.Test):\n",
    "    \n",
    "    score_type = sciunit.scores.ZScore\n",
    "    \n",
    "    attribute = 'amplitude_ratio'\n",
    "    \n",
    "    def validate_observation(self, observation):\n",
    "        for col in ['mean','std']:\n",
    "            f = getattr(observation['df'][self.attribute],col)\n",
    "            observation[col] = f()\n",
    "        return observation\n",
    "        \n",
    "    def generate_prediction(self, model):\n",
    "        f = getattr(model,'get_%s' % self.attribute)\n",
    "        return {'value': f()}\n",
    "    \n",
    "class AmplitudeRatioForwardTest(AmplitudeRatioTest):\n",
    "    \n",
    "    attribute = 'amplitude_ratio_forward'\n",
    "    \n",
    "class AmplitudeRatioBackwardTest(AmplitudeRatioTest):\n",
    "    \n",
    "    attribute = 'amplitude_ratio_backward'"
   ]
  },
  {
   "cell_type": "code",
   "execution_count": 6,
   "metadata": {},
   "outputs": [],
   "source": [
    "model = MovementModel()\n",
    "test_forward = AmplitudeRatioForwardTest(observation={'df':df})\n",
    "test_backward = AmplitudeRatioBackwardTest(observation={'df':df})\n",
    "suite = sciunit.TestSuite([test_forward,test_backward])"
   ]
  },
  {
   "cell_type": "code",
   "execution_count": 7,
   "metadata": {},
   "outputs": [
    {
     "data": {
      "text/html": [
       "Executing test <i>AmplitudeRatioForwardTest</i> on model <i>MovementModel</i>... "
      ],
      "text/plain": [
       "<IPython.core.display.HTML object>"
      ]
     },
     "metadata": {},
     "output_type": "display_data"
    },
    {
     "data": {
      "text/html": [
       "Score is <a style=\"color: rgb(84,181,94)\">Z = 0.05</a>\n"
      ],
      "text/plain": [
       "<IPython.core.display.HTML object>"
      ]
     },
     "metadata": {},
     "output_type": "display_data"
    },
    {
     "data": {
      "text/html": [
       "Executing test <i>AmplitudeRatioBackwardTest</i> on model <i>MovementModel</i>... "
      ],
      "text/plain": [
       "<IPython.core.display.HTML object>"
      ]
     },
     "metadata": {},
     "output_type": "display_data"
    },
    {
     "data": {
      "text/html": [
       "Score is <a style=\"color: rgb(102,189,99)\">Z = 0.09</a>\n"
      ],
      "text/plain": [
       "<IPython.core.display.HTML object>"
      ]
     },
     "metadata": {},
     "output_type": "display_data"
    },
    {
     "data": {
      "text/html": [
       "<html><body><div>\n",
       "<style scoped=\"\">\n",
       "    .dataframe tbody tr th:only-of-type {\n",
       "        vertical-align: middle;\n",
       "    }\n",
       "\n",
       "    .dataframe tbody tr th {\n",
       "        vertical-align: top;\n",
       "    }\n",
       "\n",
       "    .dataframe thead th {\n",
       "        text-align: right;\n",
       "    }\n",
       "</style>\n",
       "<table border=\"1\" class=\"dataframe\" id=\"1666954440365704262\">\n",
       "<thead>\n",
       "<tr style=\"text-align: right;\">\n",
       "<th></th>\n",
       "<th title>AmplitudeRatioForwardTest</th>\n",
       "<th title>AmplitudeRatioBackwardTest</th>\n",
       "</tr>\n",
       "</thead>\n",
       "<tbody>\n",
       "<tr>\n",
       "<th title=\"No description available\">MovementModel</th>\n",
       "<td style=\"background-color: rgb(84,181,94);\" title=\"A Z score. A float indicating standardized difference from a reference mean.\n",
       "The difference between the means of the observation and prediction divided by the standard deviation of the observation\">Z = 0.05</td>\n",
       "<td style=\"background-color: rgb(102,189,99);\" title=\"A Z score. A float indicating standardized difference from a reference mean.\n",
       "The difference between the means of the observation and prediction divided by the standard deviation of the observation\">Z = 0.09</td>\n",
       "</tr>\n",
       "</tbody>\n",
       "</table>\n",
       "</div></body></html>"
      ],
      "text/plain": [
       "              AmplitudeRatioForwardTest AmplitudeRatioBackwardTest\n",
       "MovementModel                  Z = 0.05                   Z = 0.09"
      ]
     },
     "execution_count": 7,
     "metadata": {},
     "output_type": "execute_result"
    }
   ],
   "source": [
    "score_matrix = suite.judge(model)\n",
    "score_matrix"
   ]
  }
 ],
 "metadata": {
  "kernelspec": {
   "display_name": "Python 3",
   "language": "python",
   "name": "python3"
  },
  "language_info": {
   "codemirror_mode": {
    "name": "ipython",
    "version": 3
   },
   "file_extension": ".py",
   "mimetype": "text/x-python",
   "name": "python",
   "nbconvert_exporter": "python",
   "pygments_lexer": "ipython3",
   "version": "3.6.3"
  }
 },
 "nbformat": 4,
 "nbformat_minor": 2
}
