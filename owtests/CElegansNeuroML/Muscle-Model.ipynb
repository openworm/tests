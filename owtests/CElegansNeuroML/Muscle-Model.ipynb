{
 "cells": [
  {
   "cell_type": "markdown",
   "metadata": {},
   "source": [
    "## The data figure we want to reproduce (from [here](https://www.ncbi.nlm.nih.gov/pmc/articles/PMC3039263/figure/fig01/))"
   ]
  },
  {
   "cell_type": "markdown",
   "metadata": {},
   "source": [
    "![data-figure](https://www.ncbi.nlm.nih.gov/pmc/articles/PMC3039263/bin/tjp0589-0101-f1.jpg)"
   ]
  },
  {
   "cell_type": "code",
   "execution_count": 6,
   "metadata": {},
   "outputs": [
    {
     "name": "stdout",
     "output_type": "stream",
     "text": [
      "/home/jovyan/work/openworm/tests/owtests\r\n"
     ]
    }
   ],
   "source": [
    "%matplotlib inline\n",
    "\n",
    "# Built-in libs\n",
    "import os\n",
    "import sys\n",
    "import warnings\n",
    "\n",
    "# Common libs\n",
    "import matplotlib.pyplot as plt\n",
    "import quantities as pq\n",
    "\n",
    "# Open Worm libs\n",
    "import owtests\n",
    "import c302\n",
    "\n",
    "# Testing libs\n",
    "warnings.simplefilter('ignore')\n",
    "import sciunit\n",
    "from neuronunit.tests import APWidthTest,APAmplitudeTest\n",
    "from c302.muscleunit import vm_plot,models as sciunit_models\n",
    "!pwd"
   ]
  },
  {
   "cell_type": "code",
   "execution_count": 2,
   "metadata": {},
   "outputs": [
    {
     "name": "stdout",
     "output_type": "stream",
     "text": [
      "Set default parameters for C\n",
      "Set default parameters for C2\n",
      "Opened file: /home/jovyan/work/openworm/CElegansNeuroML/CElegans/pythonScripts/c302/../../../herm_full_edgelist.csv\n",
      "Opened file: /home/jovyan/work/openworm/CElegansNeuroML/CElegans/pythonScripts/c302/../../../herm_full_edgelist.csv\n",
      "c302      >>>  Positioning muscle: MDR01 at (80,-270,80)\n",
      "c302      >>>  Writing generated network to: /home/jovyan/work/openworm/CElegansNeuroML/CElegans/pythonScripts/c302/examples/c302_C2_IClampBWM.nml\n",
      "(Re)written network file to: /home/jovyan/work/openworm/CElegansNeuroML/CElegans/pythonScripts/c302/examples/c302_C2_IClampBWM.nml\n"
     ]
    }
   ],
   "source": [
    "# Create a MuscleModel instance with a particular configuration\n",
    "# This model has a neuron and a muscle cell\n",
    "model = sciunit_models.MuscleModel('IClampBWM', 'C2', 1000, 0.05, config_package=\"notebooks.configs\")"
   ]
  },
  {
   "cell_type": "code",
   "execution_count": 3,
   "metadata": {},
   "outputs": [],
   "source": [
    "# Dictionary of observations, in this case two ephys properties from one paper\n",
    "from neuronunit.tests import dynamics \n",
    "import quantities as pq\n",
    "\n",
    "doi = 'doi:10.1113/jphysiol.2010.200683'\n",
    "observations={doi:{'ap_amplitude':{'mean':45.1*pq.mV,\n",
    "                                   'sem':0.7*pq.mV,\n",
    "                                   'n':25},\n",
    "                   'ap_width':{'mean':19.7*pq.ms,\n",
    "                               'sem':1.0*pq.ms,\n",
    "                               'n':25}}}    \n",
    "\n",
    "# Instantiate two tests based on these properties\n",
    "ap_width_test = APWidthTest(observation=observations[doi]['ap_width'])\n",
    "ap_amplitude_test = APAmplitudeTest(observation=observations[doi]['ap_amplitude'])\n",
    "\n",
    "\n",
    "\n",
    "observation = {}\n",
    "averaged:  149.0718879752502\n",
    "\n",
    "observation[doi] = {}\n",
    "observation[doi]['isi'] = 598.0*pq.ms\n",
    "observation[doi]['mean'] = 598.0*pq.ms\n",
    "observation[doi]['std'] = 37.0*pq.ms\n",
    "isi_test = dynamics.ISITest(observation=observation[doi])\n",
    "# Put them together in a test suite\n",
    "\n",
    "# Note these values where derived from the adjacent notebook test_data_CV_histogram\n",
    "#0.4486588231066874 0.10415658416895163\n",
    "\n",
    "observation = {}\n",
    "observation[doi] = {}\n",
    "observation[doi]['sps'] = 0.4486588231066874*pq.dimensionless\n",
    "observation[doi]['mean'] = 0.4486588231066874*pq.dimensionless\n",
    "observation[doi]['std'] = 0.10415658416895163*pq.dimensionless\n",
    "cv_test = dynamics.CVTest(observation=observation[doi])\n",
    "\n",
    "# Put them together in a test suite\n",
    "ap_tests = sciunit.TestSuite([ap_width_test,ap_amplitude_test,isi_test,cv_test], name=\"AP ISI and CV Tests\")\n",
    "\n",
    "#ap_tests = sciunit.TestSuite([ap_width_test,ap_amplitude_test,isi_test], name=\"AP and ISI Tests\")"
   ]
  },
  {
   "cell_type": "code",
   "execution_count": 5,
   "metadata": {},
   "outputs": [
    {
     "data": {
      "text/html": [
       "Executing test <i>APWidthTest</i> on model <i>LEMS_c302_C2_IClampBWM</i>... "
      ],
      "text/plain": [
       "<IPython.core.display.HTML object>"
      ]
     },
     "metadata": {},
     "output_type": "display_data"
    },
    {
     "data": {
      "text/html": [
       "Config file not found at '/opt/conda/lib/python3.6/site-packages/sciunit/config.json'\n"
      ],
      "text/plain": [
       "<IPython.core.display.HTML object>"
      ]
     },
     "metadata": {},
     "output_type": "display_data"
    },
    {
     "data": {
      "text/html": [
       "Using default value of 38\n"
      ],
      "text/plain": [
       "<IPython.core.display.HTML object>"
      ]
     },
     "metadata": {},
     "output_type": "display_data"
    },
    {
     "data": {
      "text/html": [
       "Config file not found at '/opt/conda/lib/python3.6/site-packages/sciunit/config.json'\n"
      ],
      "text/plain": [
       "<IPython.core.display.HTML object>"
      ]
     },
     "metadata": {},
     "output_type": "display_data"
    },
    {
     "data": {
      "text/html": [
       "Using default value of 218\n"
      ],
      "text/plain": [
       "<IPython.core.display.HTML object>"
      ]
     },
     "metadata": {},
     "output_type": "display_data"
    },
    {
     "data": {
      "text/html": [
       "Score is <a style=\"color: rgb(230,78,52)\">Z = -3.06</a>\n"
      ],
      "text/plain": [
       "<IPython.core.display.HTML object>"
      ]
     },
     "metadata": {},
     "output_type": "display_data"
    },
    {
     "data": {
      "text/html": [
       "Executing test <i>APAmplitudeTest</i> on model <i>LEMS_c302_C2_IClampBWM</i>... "
      ],
      "text/plain": [
       "<IPython.core.display.HTML object>"
      ]
     },
     "metadata": {},
     "output_type": "display_data"
    },
    {
     "data": {
      "text/html": [
       "Config file not found at '/opt/conda/lib/python3.6/site-packages/sciunit/config.json'\n"
      ],
      "text/plain": [
       "<IPython.core.display.HTML object>"
      ]
     },
     "metadata": {},
     "output_type": "display_data"
    },
    {
     "data": {
      "text/html": [
       "Using default value of 38\n"
      ],
      "text/plain": [
       "<IPython.core.display.HTML object>"
      ]
     },
     "metadata": {},
     "output_type": "display_data"
    },
    {
     "data": {
      "text/html": [
       "Config file not found at '/opt/conda/lib/python3.6/site-packages/sciunit/config.json'\n"
      ],
      "text/plain": [
       "<IPython.core.display.HTML object>"
      ]
     },
     "metadata": {},
     "output_type": "display_data"
    },
    {
     "data": {
      "text/html": [
       "Using default value of 218\n"
      ],
      "text/plain": [
       "<IPython.core.display.HTML object>"
      ]
     },
     "metadata": {},
     "output_type": "display_data"
    },
    {
     "data": {
      "text/html": [
       "Score is <a style=\"color: rgb(230,78,52)\">Z = -11.03</a>\n"
      ],
      "text/plain": [
       "<IPython.core.display.HTML object>"
      ]
     },
     "metadata": {},
     "output_type": "display_data"
    },
    {
     "data": {
      "text/html": [
       "Executing test <i>ISITest</i> on model <i>LEMS_c302_C2_IClampBWM</i>... "
      ],
      "text/plain": [
       "<IPython.core.display.HTML object>"
      ]
     },
     "metadata": {},
     "output_type": "display_data"
    },
    {
     "name": "stdout",
     "output_type": "stream",
     "text": [
      "{'isi': array(598.0) * ms, 'mean': array(598.0) * ms, 'std': array(37.0) * ms} {'isi': array(270.87142857142857) * ms}\n"
     ]
    },
    {
     "data": {
      "text/html": [
       "Config file not found at '/opt/conda/lib/python3.6/site-packages/sciunit/config.json'\n"
      ],
      "text/plain": [
       "<IPython.core.display.HTML object>"
      ]
     },
     "metadata": {},
     "output_type": "display_data"
    },
    {
     "data": {
      "text/html": [
       "Using default value of 38\n"
      ],
      "text/plain": [
       "<IPython.core.display.HTML object>"
      ]
     },
     "metadata": {},
     "output_type": "display_data"
    },
    {
     "data": {
      "text/html": [
       "Config file not found at '/opt/conda/lib/python3.6/site-packages/sciunit/config.json'\n"
      ],
      "text/plain": [
       "<IPython.core.display.HTML object>"
      ]
     },
     "metadata": {},
     "output_type": "display_data"
    },
    {
     "data": {
      "text/html": [
       "Using default value of 218\n"
      ],
      "text/plain": [
       "<IPython.core.display.HTML object>"
      ]
     },
     "metadata": {},
     "output_type": "display_data"
    },
    {
     "data": {
      "text/html": [
       "Score is <a style=\"color: rgb(185,226,118)\">Ratio = 0.45</a>\n"
      ],
      "text/plain": [
       "<IPython.core.display.HTML object>"
      ]
     },
     "metadata": {},
     "output_type": "display_data"
    },
    {
     "data": {
      "text/html": [
       "Executing test <i>CVTest</i> on model <i>LEMS_c302_C2_IClampBWM</i>... "
      ],
      "text/plain": [
       "<IPython.core.display.HTML object>"
      ]
     },
     "metadata": {},
     "output_type": "display_data"
    },
    {
     "data": {
      "text/html": [
       "Config file not found at '/opt/conda/lib/python3.6/site-packages/sciunit/config.json'\n"
      ],
      "text/plain": [
       "<IPython.core.display.HTML object>"
      ]
     },
     "metadata": {},
     "output_type": "display_data"
    },
    {
     "data": {
      "text/html": [
       "Using default value of 38\n"
      ],
      "text/plain": [
       "<IPython.core.display.HTML object>"
      ]
     },
     "metadata": {},
     "output_type": "display_data"
    },
    {
     "data": {
      "text/html": [
       "Config file not found at '/opt/conda/lib/python3.6/site-packages/sciunit/config.json'\n"
      ],
      "text/plain": [
       "<IPython.core.display.HTML object>"
      ]
     },
     "metadata": {},
     "output_type": "display_data"
    },
    {
     "data": {
      "text/html": [
       "Using default value of 218\n"
      ],
      "text/plain": [
       "<IPython.core.display.HTML object>"
      ]
     },
     "metadata": {},
     "output_type": "display_data"
    },
    {
     "data": {
      "text/html": [
       "Score is <a style=\"color: rgb(81,179,94)\">Ratio = 1.10</a>\n"
      ],
      "text/plain": [
       "<IPython.core.display.HTML object>"
      ]
     },
     "metadata": {},
     "output_type": "display_data"
    },
    {
     "name": "stdout",
     "output_type": "stream",
     "text": [
      "CPU times: user 304 ms, sys: 16 ms, total: 320 ms\n",
      "Wall time: 311 ms\n",
      "prediction 0.4946201516295575 dimensionless\n",
      "observation 0.4486588231066874 dimensionless\n",
      "{'isi': array(598.0) * ms, 'mean': array(598.0) * ms, 'std': array(37.0) * ms} {'isi': array(270.87142857142857) * ms}\n",
      "prediction {'isi': array(270.87142857142857) * ms}\n",
      "observation {'isi': array(598.0) * ms, 'mean': array(598.0) * ms, 'std': array(37.0) * ms}\n"
     ]
    }
   ],
   "source": [
    "# Judge the membrane potential of the muscle \n",
    "# One could judge the neuron instead with appropriate keyword parameters, see below)\n",
    "%time score_matrix = ap_tests.judge(model) \n",
    "import pandas as pd\n",
    "score_matrix.style.set_properties(**{'font-size':'16pt'})\n",
    "\n",
    "score = cv_test.judge(model) \n",
    "\n",
    "print('prediction',score.prediction['mean'])\n",
    "print('observation',score.observation['mean'])\n",
    "score = isi_test.judge(model) \n",
    "print('prediction',score.prediction)\n",
    "print('observation',score.observation)\n"
   ]
  },
  {
   "cell_type": "code",
   "execution_count": null,
   "metadata": {},
   "outputs": [],
   "source": [
    "# Plot the model output for one of the tests\n",
    "import matplotlib as mpl\n",
    "mpl.rcParams.update({'font.size':18})\n",
    "plt.figure(figsize=(12,6))\n",
    "score_matrix['APWidthTest']['LEMS_c302_C2_IClampBWM'].plot_vm()\n",
    "plt.savefig('model.pdf')"
   ]
  },
  {
   "cell_type": "markdown",
   "metadata": {},
   "source": [
    "## Model methods could also be run directly as follows"
   ]
  },
  {
   "cell_type": "code",
   "execution_count": null,
   "metadata": {
    "scrolled": true
   },
   "outputs": [],
   "source": [
    "# These will use the cached results and so be much faster than the original run\n",
    "%time neuron_vm = model.get_membrane_potential_neuron()\n",
    "%time muscle_vm = model.get_membrane_potential_muscle()"
   ]
  },
  {
   "cell_type": "code",
   "execution_count": null,
   "metadata": {},
   "outputs": [],
   "source": [
    "# Another way to plot the model output, in this case by cell type\n",
    "vm_plot(muscle_vm,\"Muscle\")"
   ]
  },
  {
   "cell_type": "code",
   "execution_count": null,
   "metadata": {},
   "outputs": [],
   "source": [
    "# Same as above, but for a different cell type in this model\n",
    "# Note that in this flavor of the model, the neuron isn't doing anything at all, \n",
    "# and the muscle cell is firing spontaneously\n",
    "vm_plot(neuron_vm,\"Neuron\")"
   ]
  }
 ],
 "metadata": {
  "kernelspec": {
   "display_name": "Python 3",
   "language": "python",
   "name": "python3"
  },
  "language_info": {
   "codemirror_mode": {
    "name": "ipython",
    "version": 3
   },
   "file_extension": ".py",
   "mimetype": "text/x-python",
   "name": "python",
   "nbconvert_exporter": "python",
   "pygments_lexer": "ipython3",
   "version": "3.6.3"
  }
 },
 "nbformat": 4,
 "nbformat_minor": 2
}
