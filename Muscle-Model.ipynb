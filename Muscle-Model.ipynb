{
 "cells": [
  {
   "cell_type": "markdown",
   "metadata": {},
   "source": [
    "## The data figure we want to reproduce (from [here](https://www.ncbi.nlm.nih.gov/pmc/articles/PMC3039263/figure/fig01/))"
   ]
  },
  {
   "cell_type": "markdown",
   "metadata": {},
   "source": [
    "![data-figure](https://www.ncbi.nlm.nih.gov/pmc/articles/PMC3039263/bin/tjp0589-0101-f1.jpg)"
   ]
  },
  {
   "cell_type": "code",
   "execution_count": 1,
   "metadata": {},
   "outputs": [
    {
     "ename": "FileNotFoundError",
     "evalue": "No directory found at ../CElegansNeuroML.  Please set OW_HOME to the location of your OpenWorm projects directory.",
     "output_type": "error",
     "traceback": [
      "\u001b[0;31m---------------------------------------------------------------------------\u001b[0m",
      "\u001b[0;31mFileNotFoundError\u001b[0m                         Traceback (most recent call last)",
      "\u001b[0;32m<ipython-input-1-523903204f70>\u001b[0m in \u001b[0;36m<module>\u001b[0;34m()\u001b[0m\n\u001b[1;32m     12\u001b[0m \u001b[0;34m\u001b[0m\u001b[0m\n\u001b[1;32m     13\u001b[0m \u001b[0;31m# Open Worm libs\u001b[0m\u001b[0;34m\u001b[0m\u001b[0;34m\u001b[0m\u001b[0m\n\u001b[0;32m---> 14\u001b[0;31m \u001b[0;32mimport\u001b[0m \u001b[0mowtests\u001b[0m\u001b[0;34m\u001b[0m\u001b[0m\n\u001b[0m\u001b[1;32m     15\u001b[0m \u001b[0;32mimport\u001b[0m \u001b[0mc302\u001b[0m\u001b[0;34m\u001b[0m\u001b[0m\n\u001b[1;32m     16\u001b[0m \u001b[0;34m\u001b[0m\u001b[0m\n",
      "\u001b[0;32m~/work/mount/owtests/__init__.py\u001b[0m in \u001b[0;36m<module>\u001b[0;34m()\u001b[0m\n\u001b[1;32m     20\u001b[0m \u001b[0;32mif\u001b[0m \u001b[0;32mnot\u001b[0m \u001b[0mos\u001b[0m\u001b[0;34m.\u001b[0m\u001b[0mpath\u001b[0m\u001b[0;34m.\u001b[0m\u001b[0misdir\u001b[0m\u001b[0;34m(\u001b[0m\u001b[0mOW_HOME\u001b[0m\u001b[0;34m)\u001b[0m\u001b[0;34m:\u001b[0m\u001b[0;34m\u001b[0m\u001b[0m\n\u001b[1;32m     21\u001b[0m     \u001b[0mmsg\u001b[0m \u001b[0;34m=\u001b[0m \u001b[0;34m'No directory found at %s.  Please set OW_HOME to the location of your OpenWorm projects directory.'\u001b[0m \u001b[0;34m%\u001b[0m \u001b[0mOW_HOME\u001b[0m\u001b[0;34m\u001b[0m\u001b[0m\n\u001b[0;32m---> 22\u001b[0;31m     \u001b[0;32mraise\u001b[0m \u001b[0mFileNotFoundError\u001b[0m\u001b[0;34m(\u001b[0m\u001b[0mmsg\u001b[0m\u001b[0;34m)\u001b[0m\u001b[0;34m\u001b[0m\u001b[0m\n\u001b[0m\u001b[1;32m     23\u001b[0m \u001b[0mCW_HOME\u001b[0m \u001b[0;34m=\u001b[0m \u001b[0mos\u001b[0m\u001b[0;34m.\u001b[0m\u001b[0mpath\u001b[0m\u001b[0;34m.\u001b[0m\u001b[0mjoin\u001b[0m\u001b[0;34m(\u001b[0m\u001b[0mOW_HOME\u001b[0m\u001b[0;34m,\u001b[0m\u001b[0;34m'ChannelWorm'\u001b[0m\u001b[0;34m)\u001b[0m\u001b[0;34m\u001b[0m\u001b[0m\n\u001b[1;32m     24\u001b[0m \u001b[0;34m\u001b[0m\u001b[0m\n",
      "\u001b[0;31mFileNotFoundError\u001b[0m: No directory found at ../CElegansNeuroML.  Please set OW_HOME to the location of your OpenWorm projects directory."
     ]
    }
   ],
   "source": [
    "%matplotlib inline\n",
    "\n",
    "# Built-in libs\n",
    "import os\n",
    "import sys\n",
    "import warnings\n",
    "\n",
    "# Common libs\n",
    "import matplotlib.pyplot as plt\n",
    "#!pip install quantities\n",
    "import quantities as pq\n",
    "\n",
    "# Open Worm libs\n",
    "import owtests\n",
    "import c302\n",
    "\n",
    "# Testing libs\n",
    "warnings.simplefilter('ignore')\n",
    "import sciunit\n",
    "from neuronunit.tests import APWidthTest,APAmplitudeTest\n",
    "from c302.muscleunit import vm_plot,models as sciunit_models"
   ]
  },
  {
   "cell_type": "code",
   "execution_count": null,
   "metadata": {},
   "outputs": [],
   "source": [
    "# Create a MuscleModel instance with a particular configuration\n",
    "# This model has a neuron and a muscle cell\n",
    "model = sciunit_models.MuscleModel('IClampBWM', 'C2', 1000, 0.05, config_package=\"notebooks.configs\")"
   ]
  },
  {
   "cell_type": "code",
   "execution_count": null,
   "metadata": {},
   "outputs": [],
   "source": [
    "# Dictionary of observations, in this case two ephys properties from one paper\n",
    "from neuronunit.tests import dynamics \n",
    "import quantities as pq\n",
    "\n",
    "doi = 'doi:10.1113/jphysiol.2010.200683'\n",
    "observations={doi:{'ap_amplitude':{'mean':45.1*pq.mV,\n",
    "                                   'sem':0.7*pq.mV,\n",
    "                                   'n':25},\n",
    "                   'ap_width':{'mean':19.7*pq.ms,\n",
    "                               'sem':1.0*pq.ms,\n",
    "                               'n':25}}}    \n",
    "\n",
    "# Instantiate two tests based on these properties\n",
    "ap_width_test = APWidthTest(observation=observations[doi]['ap_width'])\n",
    "ap_amplitude_test = APAmplitudeTest(observation=observations[doi]['ap_amplitude'])\n",
    "\n",
    "\n",
    "\n",
    "observation = {}\n",
    "observation[doi] = {}\n",
    "observation[doi]['isi'] = 598.0*pq.ms\n",
    "observation[doi]['mean'] = 598.0*pq.ms\n",
    "observation[doi]['std'] = 37.0*pq.ms\n",
    "isi_test = dynamics.ISITest(observation=observation[doi])\n",
    "# Put them together in a test suite\n",
    "\n",
    "\n",
    "observation = {}\n",
    "observation[doi] = {}\n",
    "observation[doi]['isi'] = 16.1\n",
    "observation[doi]['mean'] = 16.1*pq.ms\n",
    "observation[doi]['std'] = 2.1*pq.ms\n",
    "isi_test = dynamics.FiringRateTest(observation=observation)\n",
    "\n",
    "ap_tests = sciunit.TestSuite([ap_width_test,ap_amplitude_test,isi_test], name=\"AP and ISI Tests\")"
   ]
  },
  {
   "cell_type": "code",
   "execution_count": null,
   "metadata": {},
   "outputs": [],
   "source": [
    "# Judge the membrane potential of the muscle \n",
    "# One could judge the neuron instead with appropriate keyword parameters, see below)\n",
    "%time score_matrix = ap_tests.judge(model) \n",
    "import pandas as pd\n",
    "score_matrix.style.set_properties(**{'font-size':'16pt'})\n",
    "score_matrix"
   ]
  },
  {
   "cell_type": "code",
   "execution_count": null,
   "metadata": {},
   "outputs": [],
   "source": [
    "# Plot the model output for one of the tests\n",
    "import matplotlib as mpl\n",
    "mpl.rcParams.update({'font.size':18})\n",
    "plt.figure(figsize=(12,6))\n",
    "score_matrix['APWidthTest']['LEMS_c302_C2_IClampBWM'].plot_vm()\n",
    "plt.savefig('model.pdf')"
   ]
  },
  {
   "cell_type": "markdown",
   "metadata": {},
   "source": [
    "## Model methods could also be run directly as follows"
   ]
  },
  {
   "cell_type": "code",
   "execution_count": null,
   "metadata": {
    "scrolled": true
   },
   "outputs": [],
   "source": [
    "# These will use the cached results and so be much faster than the original run\n",
    "%time neuron_vm = model.get_membrane_potential_neuron()\n",
    "%time muscle_vm = model.get_membrane_potential_muscle()"
   ]
  },
  {
   "cell_type": "code",
   "execution_count": null,
   "metadata": {},
   "outputs": [],
   "source": [
    "# Another way to plot the model output, in this case by cell type\n",
    "vm_plot(muscle_vm,\"Muscle\")"
   ]
  },
  {
   "cell_type": "code",
   "execution_count": null,
   "metadata": {},
   "outputs": [],
   "source": [
    "# Same as above, but for a different cell type in this model\n",
    "# Note that in this flavor of the model, the neuron isn't doing anything at all, \n",
    "# and the muscle cell is firing spontaneously\n",
    "vm_plot(neuron_vm,\"Neuron\")"
   ]
  },
  {
   "cell_type": "code",
   "execution_count": null,
   "metadata": {},
   "outputs": [],
   "source": [
    "from IPython.display import Image \n",
    "Image(filename='worm_muscle.png')"
   ]
  },
  {
   "cell_type": "code",
   "execution_count": null,
   "metadata": {},
   "outputs": [],
   "source": [
    "import pandas as pd\n",
    "import numpy as np\n",
    "df = pd.DataFrame()\n",
    "df = df.from_csv('digitized_histogram.csv')\n",
    "columns = df.columns[0]\n",
    "histogram_values = list(df.values)\n",
    "histogram_values = [ float(i) for i in histogram_values ]\n",
    "histogram_values.insert(0,float(df.columns[0]))\n",
    "print(len(histogram_values))\n",
    "cv_axis = np.linspace(0,2,len(histogram_values))\n",
    "print(len(cv_axis))\n",
    "\n",
    "df2 = pd.DataFrame(list(zip(cv_axis,histogram_values)))\n",
    "from matplotlib.pyplot import bar\n",
    "from matplotlib import pyplot as plt\n",
    "\n",
    "fig = plt.figure()\n",
    "\n",
    "width =  cv_axis[1] - cv_axis[0]\n",
    "ind = cv_axis\n",
    "plt.bar(cv_axis, histogram_values, width=width)\n",
    "plt.title('Coefficient of Variation')\n",
    "plt.show()\n",
    "print(mean_CV)"
   ]
  }
 ],
 "metadata": {
  "kernelspec": {
   "display_name": "Python 3",
   "language": "python",
   "name": "python3"
  },
  "language_info": {
   "codemirror_mode": {
    "name": "ipython",
    "version": 3
   },
   "file_extension": ".py",
   "mimetype": "text/x-python",
   "name": "python",
   "nbconvert_exporter": "python",
   "pygments_lexer": "ipython3",
   "version": "3.6.3"
  }
 },
 "nbformat": 4,
 "nbformat_minor": 2
}
