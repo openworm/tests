{
 "cells": [
  {
   "cell_type": "markdown",
   "metadata": {},
   "source": [
    "## The data figure we want to reproduce (from [here](https://www.ncbi.nlm.nih.gov/pmc/articles/PMC3039263/figure/fig01/))"
   ]
  },
  {
   "cell_type": "markdown",
   "metadata": {},
   "source": [
    "![data-figure](https://www.ncbi.nlm.nih.gov/pmc/articles/PMC3039263/bin/tjp0589-0101-f1.jpg)"
   ]
  },
  {
   "cell_type": "code",
   "execution_count": 1,
   "metadata": {},
   "outputs": [],
   "source": [
    "%matplotlib inline\n",
    "\n",
    "# Built-in libs\n",
    "import os\n",
    "import sys\n",
    "import warnings\n",
    "\n",
    "# Common libs\n",
    "import matplotlib.pyplot as plt\n",
    "#!pip install quantities\n",
    "import quantities as pq\n",
    "\n",
    "# Open Worm libs\n",
    "import owtests\n",
    "import c302\n",
    "\n",
    "# Testing libs\n",
    "warnings.simplefilter('ignore')\n",
    "import sciunit\n",
    "from neuronunit.tests import APWidthTest,APAmplitudeTest\n",
    "from c302.muscleunit import vm_plot,models as sciunit_models"
   ]
  },
  {
   "cell_type": "code",
   "execution_count": 2,
   "metadata": {},
   "outputs": [
    {
     "name": "stdout",
     "output_type": "stream",
     "text": [
      "Set default parameters for C\n",
      "Set default parameters for C2\n",
      "Opened file: /home/jovyan/work/openworm/CElegansNeuroML/CElegans/pythonScripts/c302/../../../herm_full_edgelist.csv\n",
      "Opened file: /home/jovyan/work/openworm/CElegansNeuroML/CElegans/pythonScripts/c302/../../../herm_full_edgelist.csv\n",
      "c302      >>>  Positioning muscle: MDR01 at (80,-270,80)\n",
      "c302      >>>  Writing generated network to: /home/jovyan/work/openworm/CElegansNeuroML/CElegans/pythonScripts/c302/examples/c302_C2_IClampBWM.nml\n",
      "(Re)written network file to: /home/jovyan/work/openworm/CElegansNeuroML/CElegans/pythonScripts/c302/examples/c302_C2_IClampBWM.nml\n"
     ]
    }
   ],
   "source": [
    "# Create a MuscleModel instance with a particular configuration\n",
    "# This model has a neuron and a muscle cell\n",
    "model = sciunit_models.MuscleModel('IClampBWM', 'C2', 1000, 0.05, config_package=\"notebooks.configs\")"
   ]
  },
  {
   "cell_type": "code",
   "execution_count": 3,
   "metadata": {},
   "outputs": [],
   "source": [
    "# Dictionary of observations, in this case two ephys properties from one paper\n",
    "from neuronunit.tests import dynamics \n",
    "import quantities as pq\n",
    "\n",
    "doi = 'doi:10.1113/jphysiol.2010.200683'\n",
    "observations={doi:{'ap_amplitude':{'mean':45.1*pq.mV,\n",
    "                                   'sem':0.7*pq.mV,\n",
    "                                   'n':25},\n",
    "                   'ap_width':{'mean':19.7*pq.ms,\n",
    "                               'sem':1.0*pq.ms,\n",
    "                               'n':25}}}    \n",
    "\n",
    "# Instantiate two tests based on these properties\n",
    "ap_width_test = APWidthTest(observation=observations[doi]['ap_width'])\n",
    "ap_amplitude_test = APAmplitudeTest(observation=observations[doi]['ap_amplitude'])\n",
    "\n",
    "observation = {}\n",
    "observation['isi'] = 598.0*pq.ms\n",
    "observation['mean'] = 598.0*pq.ms\n",
    "observation['std'] = 37.0*pq.ms\n",
    "isi_test = dynamics.ISITest(observation=observation)\n",
    "# Put them together in a test suite\n",
    "ap_tests = sciunit.TestSuite([ap_width_test,ap_amplitude_test,isi_test], name=\"AP and ISI Tests\")"
   ]
  },
  {
   "cell_type": "code",
   "execution_count": 4,
   "metadata": {},
   "outputs": [
    {
     "data": {
      "text/html": [
       "Executing test <i>APWidthTest</i> on model <i>LEMS_c302_C2_IClampBWM</i>... "
      ],
      "text/plain": [
       "<IPython.core.display.HTML object>"
      ]
     },
     "metadata": {},
     "output_type": "display_data"
    },
    {
     "name": "stdout",
     "output_type": "stream",
     "text": [
      "pyNeuroML >>> Reloading data specified in LEMS file: /tmp/tmpiiwh5p_7/LEMS_c302_C2_IClampBWM.xml (/tmp/tmpiiwh5p_7/LEMS_c302_C2_IClampBWM.xml), base_dir: /tmp/tmp7ksxbi_h, cwd: /home/jovyan/work/mount/owtests\n"
     ]
    },
    {
     "data": {
      "text/html": [
       "Config file not found at '/opt/conda/lib/python3.6/site-packages/sciunit/config.json'\n"
      ],
      "text/plain": [
       "<IPython.core.display.HTML object>"
      ]
     },
     "metadata": {},
     "output_type": "display_data"
    },
    {
     "data": {
      "text/html": [
       "Using default value of 38\n"
      ],
      "text/plain": [
       "<IPython.core.display.HTML object>"
      ]
     },
     "metadata": {},
     "output_type": "display_data"
    },
    {
     "data": {
      "text/html": [
       "Config file not found at '/opt/conda/lib/python3.6/site-packages/sciunit/config.json'\n"
      ],
      "text/plain": [
       "<IPython.core.display.HTML object>"
      ]
     },
     "metadata": {},
     "output_type": "display_data"
    },
    {
     "data": {
      "text/html": [
       "Using default value of 218\n"
      ],
      "text/plain": [
       "<IPython.core.display.HTML object>"
      ]
     },
     "metadata": {},
     "output_type": "display_data"
    },
    {
     "data": {
      "text/html": [
       "Score is <a style=\"color: rgb(230,78,52)\">Z = -3.06</a>\n"
      ],
      "text/plain": [
       "<IPython.core.display.HTML object>"
      ]
     },
     "metadata": {},
     "output_type": "display_data"
    },
    {
     "data": {
      "text/html": [
       "Executing test <i>APAmplitudeTest</i> on model <i>LEMS_c302_C2_IClampBWM</i>... "
      ],
      "text/plain": [
       "<IPython.core.display.HTML object>"
      ]
     },
     "metadata": {},
     "output_type": "display_data"
    },
    {
     "data": {
      "text/html": [
       "Config file not found at '/opt/conda/lib/python3.6/site-packages/sciunit/config.json'\n"
      ],
      "text/plain": [
       "<IPython.core.display.HTML object>"
      ]
     },
     "metadata": {},
     "output_type": "display_data"
    },
    {
     "data": {
      "text/html": [
       "Using default value of 38\n"
      ],
      "text/plain": [
       "<IPython.core.display.HTML object>"
      ]
     },
     "metadata": {},
     "output_type": "display_data"
    },
    {
     "data": {
      "text/html": [
       "Config file not found at '/opt/conda/lib/python3.6/site-packages/sciunit/config.json'\n"
      ],
      "text/plain": [
       "<IPython.core.display.HTML object>"
      ]
     },
     "metadata": {},
     "output_type": "display_data"
    },
    {
     "data": {
      "text/html": [
       "Using default value of 218\n"
      ],
      "text/plain": [
       "<IPython.core.display.HTML object>"
      ]
     },
     "metadata": {},
     "output_type": "display_data"
    },
    {
     "data": {
      "text/html": [
       "Score is <a style=\"color: rgb(230,78,52)\">Z = -11.03</a>\n"
      ],
      "text/plain": [
       "<IPython.core.display.HTML object>"
      ]
     },
     "metadata": {},
     "output_type": "display_data"
    },
    {
     "data": {
      "text/html": [
       "Executing test <i>ISITest</i> on model <i>LEMS_c302_C2_IClampBWM</i>... "
      ],
      "text/plain": [
       "<IPython.core.display.HTML object>"
      ]
     },
     "metadata": {},
     "output_type": "display_data"
    },
    {
     "name": "stdout",
     "output_type": "stream",
     "text": [
      "{'isi': array(598.0) * ms, 'mean': array(598.0) * ms, 'std': array(37.0) * ms} {'isi': array(270.87142857142857) * ms}\n"
     ]
    },
    {
     "data": {
      "text/html": [
       "Config file not found at '/opt/conda/lib/python3.6/site-packages/sciunit/config.json'\n"
      ],
      "text/plain": [
       "<IPython.core.display.HTML object>"
      ]
     },
     "metadata": {},
     "output_type": "display_data"
    },
    {
     "data": {
      "text/html": [
       "Using default value of 38\n"
      ],
      "text/plain": [
       "<IPython.core.display.HTML object>"
      ]
     },
     "metadata": {},
     "output_type": "display_data"
    },
    {
     "data": {
      "text/html": [
       "Config file not found at '/opt/conda/lib/python3.6/site-packages/sciunit/config.json'\n"
      ],
      "text/plain": [
       "<IPython.core.display.HTML object>"
      ]
     },
     "metadata": {},
     "output_type": "display_data"
    },
    {
     "data": {
      "text/html": [
       "Using default value of 218\n"
      ],
      "text/plain": [
       "<IPython.core.display.HTML object>"
      ]
     },
     "metadata": {},
     "output_type": "display_data"
    },
    {
     "data": {
      "text/html": [
       "Score is <a style=\"color: rgb(185,226,118)\">Ratio = 0.45</a>\n"
      ],
      "text/plain": [
       "<IPython.core.display.HTML object>"
      ]
     },
     "metadata": {},
     "output_type": "display_data"
    },
    {
     "name": "stdout",
     "output_type": "stream",
     "text": [
      "CPU times: user 992 ms, sys: 20 ms, total: 1.01 s\n",
      "Wall time: 6.96 s\n"
     ]
    },
    {
     "name": "stderr",
     "output_type": "stream",
     "text": [
      "/opt/conda/lib/python3.6/site-packages/bs4/builder/_lxml.py:250: DeprecationWarning: inspect.getargspec() is deprecated, use inspect.signature() or inspect.getfullargspec()\n",
      "  self.parser.feed(markup)\n"
     ]
    },
    {
     "data": {
      "text/html": [
       "Config file not found at '/opt/conda/lib/python3.6/site-packages/sciunit/config.json'\n"
      ],
      "text/plain": [
       "<IPython.core.display.HTML object>"
      ]
     },
     "metadata": {},
     "output_type": "display_data"
    },
    {
     "data": {
      "text/html": [
       "Using default value of 38\n"
      ],
      "text/plain": [
       "<IPython.core.display.HTML object>"
      ]
     },
     "metadata": {},
     "output_type": "display_data"
    },
    {
     "data": {
      "text/html": [
       "Config file not found at '/opt/conda/lib/python3.6/site-packages/sciunit/config.json'\n"
      ],
      "text/plain": [
       "<IPython.core.display.HTML object>"
      ]
     },
     "metadata": {},
     "output_type": "display_data"
    },
    {
     "data": {
      "text/html": [
       "Using default value of 218\n"
      ],
      "text/plain": [
       "<IPython.core.display.HTML object>"
      ]
     },
     "metadata": {},
     "output_type": "display_data"
    },
    {
     "data": {
      "text/html": [
       "Config file not found at '/opt/conda/lib/python3.6/site-packages/sciunit/config.json'\n"
      ],
      "text/plain": [
       "<IPython.core.display.HTML object>"
      ]
     },
     "metadata": {},
     "output_type": "display_data"
    },
    {
     "data": {
      "text/html": [
       "Using default value of 38\n"
      ],
      "text/plain": [
       "<IPython.core.display.HTML object>"
      ]
     },
     "metadata": {},
     "output_type": "display_data"
    },
    {
     "data": {
      "text/html": [
       "Config file not found at '/opt/conda/lib/python3.6/site-packages/sciunit/config.json'\n"
      ],
      "text/plain": [
       "<IPython.core.display.HTML object>"
      ]
     },
     "metadata": {},
     "output_type": "display_data"
    },
    {
     "data": {
      "text/html": [
       "Using default value of 218\n"
      ],
      "text/plain": [
       "<IPython.core.display.HTML object>"
      ]
     },
     "metadata": {},
     "output_type": "display_data"
    },
    {
     "data": {
      "text/html": [
       "Config file not found at '/opt/conda/lib/python3.6/site-packages/sciunit/config.json'\n"
      ],
      "text/plain": [
       "<IPython.core.display.HTML object>"
      ]
     },
     "metadata": {},
     "output_type": "display_data"
    },
    {
     "data": {
      "text/html": [
       "Using default value of 38\n"
      ],
      "text/plain": [
       "<IPython.core.display.HTML object>"
      ]
     },
     "metadata": {},
     "output_type": "display_data"
    },
    {
     "data": {
      "text/html": [
       "Config file not found at '/opt/conda/lib/python3.6/site-packages/sciunit/config.json'\n"
      ],
      "text/plain": [
       "<IPython.core.display.HTML object>"
      ]
     },
     "metadata": {},
     "output_type": "display_data"
    },
    {
     "data": {
      "text/html": [
       "Using default value of 218\n"
      ],
      "text/plain": [
       "<IPython.core.display.HTML object>"
      ]
     },
     "metadata": {},
     "output_type": "display_data"
    },
    {
     "data": {
      "text/html": [
       "<html><body><div>\n",
       "<table border=\"1\" class=\"dataframe\" id=\"616561964199767548\">\n",
       "<thead>\n",
       "<tr style=\"text-align: right;\">\n",
       "<th></th>\n",
       "<th title=\"A test of the widths of action potentials at half of their maximum height.\">APWidthTest</th>\n",
       "<th title=\"A test of the amplitude (peak minus threshold) of action potentials.\">APAmplitudeTest</th>\n",
       "<th title=\"For neurons and muscle cells check the mean Interval Between Spikes given a spike train recording.\">ISITest</th>\n",
       "</tr>\n",
       "</thead>\n",
       "<tbody>\n",
       "<tr>\n",
       "<th title=\"A C. elegans muscle cell model\">LEMS_c302_C2_IClampBWM</th>\n",
       "<td style=\"background-color: rgb(230,78,52);\" title=\"A Z score. A float indicating standardized difference from a reference mean.\n",
       "The difference between the means of the observation and prediction divided by the standard deviation of the observation\">Z = -3.06</td>\n",
       "<td style=\"background-color: rgb(230,78,52);\" title=\"A Z score. A float indicating standardized difference from a reference mean.\n",
       "The difference between the means of the observation and prediction divided by the standard deviation of the observation\">Z = -11.03</td>\n",
       "<td style=\"background-color: rgb(185,226,118);\" title=\"A ratio of two numbers score. Usually the prediction divided bythe observation.\n",
       "The ratio between the prediction and the observation\">Ratio = 0.45</td>\n",
       "</tr>\n",
       "</tbody>\n",
       "</table>\n",
       "</div></body></html>"
      ],
      "text/plain": [
       "                       APWidthTest APAmplitudeTest       ISITest\n",
       "LEMS_c302_C2_IClampBWM   Z = -3.06      Z = -11.03  Ratio = 0.45"
      ]
     },
     "execution_count": 4,
     "metadata": {},
     "output_type": "execute_result"
    }
   ],
   "source": [
    "# Judge the membrane potential of the muscle \n",
    "# One could judge the neuron instead with appropriate keyword parameters, see below)\n",
    "%time score_matrix = ap_tests.judge(model) \n",
    "import pandas as pd\n",
    "score_matrix.style.set_properties(**{'font-size':'16pt'})\n",
    "score_matrix"
   ]
  },
  {
   "cell_type": "code",
   "execution_count": null,
   "metadata": {},
   "outputs": [],
   "source": []
  },
  {
   "cell_type": "code",
   "execution_count": 5,
   "metadata": {},
   "outputs": [
    {
     "name": "stderr",
     "output_type": "stream",
     "text": [
      "/opt/conda/lib/python3.6/site-packages/_pytest/fixtures.py:847: DeprecationWarning: The `convert` argument is deprecated in favor of `converter`.  It will be removed after 2019/01.\n",
      "  params = attr.ib(convert=attr.converters.optional(tuple))\n",
      "/opt/conda/lib/python3.6/site-packages/_pytest/fixtures.py:849: DeprecationWarning: The `convert` argument is deprecated in favor of `converter`.  It will be removed after 2019/01.\n",
      "  ids = attr.ib(default=None, convert=_ensure_immutable_ids)\n"
     ]
    },
    {
     "ename": "NameError",
     "evalue": "name 'df0' is not defined",
     "output_type": "error",
     "traceback": [
      "\u001b[0;31m---------------------------------------------------------------------------\u001b[0m",
      "\u001b[0;31mNameError\u001b[0m                                 Traceback (most recent call last)",
      "\u001b[0;32m<ipython-input-5-f0c0a96e0510>\u001b[0m in \u001b[0;36m<module>\u001b[0;34m()\u001b[0m\n\u001b[0;32m----> 1\u001b[0;31m \u001b[0mdf0\u001b[0m\u001b[0;34m\u001b[0m\u001b[0m\n\u001b[0m",
      "\u001b[0;31mNameError\u001b[0m: name 'df0' is not defined"
     ]
    }
   ],
   "source": [
    "df0"
   ]
  },
  {
   "cell_type": "code",
   "execution_count": null,
   "metadata": {},
   "outputs": [],
   "source": [
    "# Plot the model output for one of the tests\n",
    "import matplotlib as mpl\n",
    "mpl.rcParams.update({'font.size':18})\n",
    "plt.figure(figsize=(12,6))\n",
    "score_matrix['APWidthTest']['LEMS_c302_C2_IClampBWM'].plot_vm()\n",
    "plt.savefig('model.pdf')"
   ]
  },
  {
   "cell_type": "markdown",
   "metadata": {},
   "source": [
    "## Model methods could also be run directly as follows"
   ]
  },
  {
   "cell_type": "code",
   "execution_count": null,
   "metadata": {
    "scrolled": true
   },
   "outputs": [],
   "source": [
    "# These will use the cached results and so be much faster than the original run\n",
    "%time neuron_vm = model.get_membrane_potential_neuron()\n",
    "%time muscle_vm = model.get_membrane_potential_muscle()"
   ]
  },
  {
   "cell_type": "code",
   "execution_count": null,
   "metadata": {},
   "outputs": [],
   "source": [
    "# Another way to plot the model output, in this case by cell type\n",
    "vm_plot(muscle_vm,\"Muscle\")"
   ]
  },
  {
   "cell_type": "code",
   "execution_count": null,
   "metadata": {},
   "outputs": [],
   "source": [
    "# Same as above, but for a different cell type in this model\n",
    "# Note that in this flavor of the model, the neuron isn't doing anything at all, \n",
    "# and the muscle cell is firing spontaneously\n",
    "vm_plot(neuron_vm,\"Neuron\")"
   ]
  },
  {
   "cell_type": "code",
   "execution_count": null,
   "metadata": {},
   "outputs": [],
   "source": [
    "from IPython.display import Image \n",
    "Image(filename='worm_muscle.png')"
   ]
  },
  {
   "cell_type": "code",
   "execution_count": null,
   "metadata": {},
   "outputs": [],
   "source": [
    "import pandas as pd\n",
    "import numpy as np\n",
    "df = pd.DataFrame()\n",
    "df = df.from_csv('digitized_histogram.csv')\n",
    "columns = df.columns[0]\n",
    "histogram_values = list(df.values)\n",
    "histogram_values = [ float(i) for i in histogram_values ]\n",
    "histogram_values.insert(0,float(df.columns[0]))\n",
    "print(len(histogram_values))\n",
    "cv_axis = np.linspace(0,2,len(histogram_values))\n",
    "print(len(cv_axis))\n",
    "\n",
    "df2 = pd.DataFrame(list(zip(cv_axis,histogram_values)))\n",
    "from matplotlib.pyplot import bar\n",
    "from matplotlib import pyplot as plt\n",
    "\n",
    "fig = plt.figure()\n",
    "\n",
    "width =  cv_axis[1] - cv_axis[0]\n",
    "ind = cv_axis\n",
    "plt.bar(cv_axis, histogram_values, width=width)\n",
    "plt.title('Coefficient of Variation')\n",
    "plt.show()\n",
    "print(mean_CV)"
   ]
  }
 ],
 "metadata": {
  "kernelspec": {
   "display_name": "Python 3",
   "language": "python",
   "name": "python3"
  },
  "language_info": {
   "codemirror_mode": {
    "name": "ipython",
    "version": 3
   },
   "file_extension": ".py",
   "mimetype": "text/x-python",
   "name": "python",
   "nbconvert_exporter": "python",
   "pygments_lexer": "ipython3",
   "version": "3.6.3"
  }
 },
 "nbformat": 4,
 "nbformat_minor": 2
}
