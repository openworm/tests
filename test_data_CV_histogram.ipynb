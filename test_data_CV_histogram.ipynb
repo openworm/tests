{
 "cells": [
  {
   "cell_type": "code",
   "execution_count": 6,
   "metadata": {
    "collapsed": false
   },
   "outputs": [
    {
     "name": "stdout",
     "output_type": "stream",
     "text": [
      "20\n",
      "20\n"
     ]
    },
    {
     "name": "stderr",
     "output_type": "stream",
     "text": [
      "/opt/conda/lib/python3.5/site-packages/ipykernel_launcher.py:4: FutureWarning: from_csv is deprecated. Please use read_csv(...) instead. Note that some of the default arguments are different, so please refer to the documentation for from_csv when changing your function calls\n",
      "  after removing the cwd from sys.path.\n"
     ]
    },
    {
     "data": {
      "image/png": "[encoded data removed]",
      "text/plain": [
       "<matplotlib.figure.Figure at 0x7fafd8cca7b8>"
      ]
     },
     "metadata": {},
     "output_type": "display_data"
    }
   ],
   "source": [
    "import pandas as pd\n",
    "import numpy as np\n",
    "df = pd.DataFrame()\n",
    "df = df.from_csv('digitized_histogram.csv')\n",
    "columns = df.columns[0]\n",
    "histogram_values = list(df.values)\n",
    "histogram_values = [ float(i) for i in histogram_values ]\n",
    "histogram_values.insert(0,float(df.columns[0]))\n",
    "print(len(histogram_values))\n",
    "cv_axis = np.linspace(0,2,len(histogram_values))\n",
    "print(len(cv_axis))\n",
    "\n",
    "df2 = pd.DataFrame(list(zip(cv_axis,histogram_values)))\n",
    "from matplotlib.pyplot import bar\n",
    "from matplotlib import pyplot as plt\n",
    "\n",
    "fig = plt.figure()\n",
    "\n",
    "width =  cv_axis[1] - cv_axis[0]\n",
    "ind = cv_axis\n",
    "plt.bar(cv_axis, histogram_values, width=width)\n",
    "plt.title('Coefficient of Variation')\n",
    "plt.show()\n"
   ]
  },
  {
   "cell_type": "code",
   "execution_count": null,
   "metadata": {
    "collapsed": true
   },
   "outputs": [],
   "source": []
  }
 ],
 "metadata": {
  "kernelspec": {
   "display_name": "Python 3",
   "language": "python",
   "name": "python3"
  },
  "language_info": {
   "codemirror_mode": {
    "name": "ipython",
    "version": 3
   },
   "file_extension": ".py",
   "mimetype": "text/x-python",
   "name": "python",
   "nbconvert_exporter": "python",
   "pygments_lexer": "ipython3",
   "version": "3.5.2"
  }
 },
 "nbformat": 4,
 "nbformat_minor": 2
}
